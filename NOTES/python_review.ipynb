{
 "cells": [
  {
   "cell_type": "code",
   "execution_count": 1,
   "id": "657539b2-df12-450e-b101-5b34125ec037",
   "metadata": {},
   "outputs": [
    {
     "data": {
      "text/plain": [
       "2"
      ]
     },
     "execution_count": 1,
     "metadata": {},
     "output_type": "execute_result"
    }
   ],
   "source": [
    "class Value():\n",
    "    "
   ]
  },
  {
   "cell_type": "code",
   "execution_count": 1,
   "id": "f2981508-ffb6-4ef7-81d6-d5253297db3f",
   "metadata": {},
   "outputs": [
    {
     "data": {
      "text/plain": [
       "[1, 3, 5]"
      ]
     },
     "execution_count": 1,
     "metadata": {},
     "output_type": "execute_result"
    }
   ],
   "source": [
    "list_1=[1,3,2]\n",
    "list_1[2]=5\n",
    "list_1"
   ]
  },
  {
   "cell_type": "code",
   "execution_count": 4,
   "id": "38c88733-27af-4795-96c6-0950c852eda0",
   "metadata": {},
   "outputs": [
    {
     "data": {
      "text/plain": [
       "6"
      ]
     },
     "execution_count": 4,
     "metadata": {},
     "output_type": "execute_result"
    }
   ],
   "source": [
    "tuple_1=(\"apple,3\",23,5,645,89,5)\n",
    "tuple_1.count(23)\n",
    "len(tuple_1)"
   ]
  },
  {
   "cell_type": "code",
   "execution_count": 5,
   "id": "57c63078-bcb7-4121-acfb-c377ae1af15a",
   "metadata": {},
   "outputs": [
    {
     "data": {
      "text/plain": [
       "(5, 645, 89)"
      ]
     },
     "execution_count": 5,
     "metadata": {},
     "output_type": "execute_result"
    }
   ],
   "source": [
    "tuple_1[2:5]"
   ]
  },
  {
   "cell_type": "code",
   "execution_count": 6,
   "id": "6b878894-c1ee-4237-84fd-1b1606cbbcc5",
   "metadata": {},
   "outputs": [
    {
     "ename": "TypeError",
     "evalue": "'tuple' object does not support item assignment",
     "output_type": "error",
     "traceback": [
      "\u001b[0;31m---------------------------------------------------------------------------\u001b[0m",
      "\u001b[0;31mTypeError\u001b[0m                                 Traceback (most recent call last)",
      "Cell \u001b[0;32mIn[6], line 1\u001b[0m\n\u001b[0;32m----> 1\u001b[0m \u001b[43mtuple_1\u001b[49m\u001b[43m[\u001b[49m\u001b[38;5;241;43m3\u001b[39;49m\u001b[43m]\u001b[49m\u001b[38;5;241m=\u001b[39m\u001b[38;5;241m51\u001b[39m\n",
      "\u001b[0;31mTypeError\u001b[0m: 'tuple' object does not support item assignment"
     ]
    }
   ],
   "source": [
    "tuple_1[3]=51 #Tuples are immutable#"
   ]
  },
  {
   "cell_type": "code",
   "execution_count": 7,
   "id": "23f5ac33-0b84-4b1a-a247-9c6349af517e",
   "metadata": {},
   "outputs": [],
   "source": [
    "nfruits=[(\"apple\",56),(\"orange\",23),(\"banana\",89)]"
   ]
  },
  {
   "cell_type": "code",
   "execution_count": 8,
   "id": "a7fa4057-af88-4769-a75e-a83eb0cd78ee",
   "metadata": {},
   "outputs": [
    {
     "name": "stdout",
     "output_type": "stream",
     "text": [
      "('apple', 56) ('orange', 23) ('banana', 89)\n"
     ]
    }
   ],
   "source": [
    "n,m,o = nfruits #unpacking#\n",
    "print(n,m,o)"
   ]
  },
  {
   "cell_type": "code",
   "execution_count": 10,
   "id": "6117a1d7-77e1-4326-aa45-adbe51b7762c",
   "metadata": {
    "scrolled": true
   },
   "outputs": [
    {
     "data": {
      "text/plain": [
       "(5, 6, 5)"
      ]
     },
     "execution_count": 10,
     "metadata": {},
     "output_type": "execute_result"
    }
   ],
   "source": [
    "tuple_2 = 5,6,5 #packing#\n",
    "tuple_2"
   ]
  },
  {
   "cell_type": "markdown",
   "id": "83495920-c964-4171-9ee5-c9f20e56b2d5",
   "metadata": {},
   "source": [
    "Next, **SETS**"
   ]
  },
  {
   "cell_type": "code",
   "execution_count": 12,
   "id": "6497f328-828d-4f41-83a9-b61188005485",
   "metadata": {},
   "outputs": [
    {
     "data": {
      "text/plain": [
       "{3, 5, 6, 7, 9, 12, 89}"
      ]
     },
     "execution_count": 12,
     "metadata": {},
     "output_type": "execute_result"
    }
   ],
   "source": [
    "set_1={5,89,5,12,3,6,7,9,6,5}\n",
    "set(set_1) #to check the unique elements#"
   ]
  },
  {
   "cell_type": "code",
   "execution_count": 24,
   "id": "8de91530-c499-43f5-9e5a-058ca7b516a1",
   "metadata": {},
   "outputs": [],
   "source": [
    "tuple_3 = (\"a\",\"m\",9,\"k\",\"i\",\"p\",\"m\",\"i\")\n",
    "set_2 = set(tuple_3)"
   ]
  },
  {
   "cell_type": "code",
   "execution_count": 21,
   "id": "242a2624-ea76-4a99-91a4-a4e100538c8a",
   "metadata": {},
   "outputs": [
    {
     "data": {
      "text/plain": [
       "{'a', 'b', 'e', 'l', 'n', 'o', 'p', 's', 't', 'u'}"
      ]
     },
     "execution_count": 21,
     "metadata": {},
     "output_type": "execute_result"
    }
   ],
   "source": [
    "set(\"unstoppable\")"
   ]
  },
  {
   "cell_type": "code",
   "execution_count": 25,
   "id": "7f444f9b-454c-44ad-9b26-4d85bbe2513c",
   "metadata": {},
   "outputs": [
    {
     "data": {
      "text/plain": [
       "{12, 3, 5, 6, 7, 89, 9, 'a', 'i', 'k', 'm', 'p'}"
      ]
     },
     "execution_count": 25,
     "metadata": {},
     "output_type": "execute_result"
    }
   ],
   "source": [
    "set_1.union(set_2)"
   ]
  },
  {
   "cell_type": "code",
   "execution_count": 26,
   "id": "9ba82b10-1114-4879-ace1-78609b5b6364",
   "metadata": {},
   "outputs": [
    {
     "data": {
      "text/plain": [
       "{9}"
      ]
     },
     "execution_count": 26,
     "metadata": {},
     "output_type": "execute_result"
    }
   ],
   "source": [
    "set_1.intersection(set_2)"
   ]
  },
  {
   "cell_type": "code",
   "execution_count": 27,
   "id": "f4b20472-920b-4389-b5a2-b5b9de810a7b",
   "metadata": {},
   "outputs": [
    {
     "data": {
      "text/plain": [
       "False"
      ]
     },
     "execution_count": 27,
     "metadata": {},
     "output_type": "execute_result"
    }
   ],
   "source": [
    "set_1.issubset({1, 2, 3, 3, 4, 5})"
   ]
  },
  {
   "cell_type": "markdown",
   "id": "b759862c-cc57-4998-888f-6999eec5b3ac",
   "metadata": {},
   "source": [
    "**DICTIONARIES**"
   ]
  },
  {
   "cell_type": "markdown",
   "id": "df6ef729-6635-4e60-897f-ca8bbab2b251",
   "metadata": {},
   "source": [
    "A dictionary is a key-value pairs, and each key maps to a corresponding value. It is defined by using a pair of braces { }, while the elements are a list of comma separated key:value pairs (note the key:value pair is separated by the colon, with key at front and value at the end)."
   ]
  },
  {
   "cell_type": "markdown",
   "id": "ec771487-88db-41fc-8de8-6f969d1123a3",
   "metadata": {},
   "source": [
    "Within a dictionary, elements are stored without order, therefore, you can not access a dictionary based on a sequence of index numbers. To get access to a dictionary, we need to use the key of the element - dictionary[key]."
   ]
  },
  {
   "cell_type": "code",
   "execution_count": 28,
   "id": "118907f4-f0c9-48b8-a284-9d634db98f3d",
   "metadata": {},
   "outputs": [
    {
     "data": {
      "text/plain": [
       "{'45kosp': 33, 'sopc54': 446, 'kopl24': 22}"
      ]
     },
     "execution_count": 28,
     "metadata": {},
     "output_type": "execute_result"
    }
   ],
   "source": [
    "dict_1 = {'45kosp':33, 'sopc54':446, 'kopl24':22}\n",
    "dict_1"
   ]
  },
  {
   "cell_type": "code",
   "execution_count": 30,
   "id": "276388a7-5f47-4f23-8815-79fdc2c9142e",
   "metadata": {},
   "outputs": [
    {
     "data": {
      "text/plain": [
       "22"
      ]
     },
     "execution_count": 30,
     "metadata": {},
     "output_type": "execute_result"
    }
   ],
   "source": [
    "dict_1[\"kopl24\"]"
   ]
  },
  {
   "cell_type": "code",
   "execution_count": 31,
   "id": "6654141f-27fc-4167-96e9-59c79d84f6d0",
   "metadata": {},
   "outputs": [
    {
     "data": {
      "text/plain": [
       "dict_keys(['45kosp', 'sopc54', 'kopl24'])"
      ]
     },
     "execution_count": 31,
     "metadata": {},
     "output_type": "execute_result"
    }
   ],
   "source": [
    "dict_1.keys()"
   ]
  },
  {
   "cell_type": "code",
   "execution_count": 32,
   "id": "5a2747ec-d522-4984-8d84-5d34ad5f0f82",
   "metadata": {},
   "outputs": [
    {
     "data": {
      "text/plain": [
       "dict_values([33, 446, 22])"
      ]
     },
     "execution_count": 32,
     "metadata": {},
     "output_type": "execute_result"
    }
   ],
   "source": [
    "dict_1.values()"
   ]
  },
  {
   "cell_type": "code",
   "execution_count": 33,
   "id": "67ebfff9-1924-41ce-a026-05e703f35f48",
   "metadata": {},
   "outputs": [
    {
     "data": {
      "text/plain": [
       "3"
      ]
     },
     "execution_count": 33,
     "metadata": {},
     "output_type": "execute_result"
    }
   ],
   "source": [
    "len(dict_1)"
   ]
  },
  {
   "cell_type": "code",
   "execution_count": 34,
   "id": "68947013-9ad8-4765-b37a-f07a56002d19",
   "metadata": {},
   "outputs": [
    {
     "data": {
      "text/plain": [
       "{'Cervantes': 'El ingenioso hidalgo Don Quijote de la Mancha'}"
      ]
     },
     "execution_count": 34,
     "metadata": {},
     "output_type": "execute_result"
    }
   ],
   "source": [
    "library_dict = {}\n",
    "library_dict['Cervantes'] = 'El ingenioso hidalgo Don Quijote de la Mancha'\n",
    "library_dict"
   ]
  },
  {
   "cell_type": "code",
   "execution_count": 36,
   "id": "e2b7869c-c3b0-4120-aba6-5e884203f561",
   "metadata": {},
   "outputs": [
    {
     "data": {
      "text/plain": [
       "{'Cervantes': 'El ingenioso hidalgo Don Quijote de la Mancha',\n",
       " 'Bradbury': 'Farenheit 451'}"
      ]
     },
     "execution_count": 36,
     "metadata": {},
     "output_type": "execute_result"
    }
   ],
   "source": [
    "library_dict[\"Bradbury\"] = \"Farenheit 451\"\n",
    "library_dict"
   ]
  },
  {
   "cell_type": "code",
   "execution_count": 37,
   "id": "b2f7de71-b984-49c2-ac1d-542d688b590c",
   "metadata": {},
   "outputs": [
    {
     "data": {
      "text/plain": [
       "['Cervantes', 'Bradbury']"
      ]
     },
     "execution_count": 37,
     "metadata": {},
     "output_type": "execute_result"
    }
   ],
   "source": [
    "list(library_dict) #turn keys to elements of a list#"
   ]
  },
  {
   "cell_type": "markdown",
   "id": "83b3e360-1b20-45ea-a9d0-2cfb95f4cbcc",
   "metadata": {},
   "source": [
    "**NUMPY Arrays**"
   ]
  },
  {
   "cell_type": "markdown",
   "id": "ad32af3d-7177-44ce-84cb-2b3143843220",
   "metadata": {},
   "source": [
    "NumPy is important in scientific computing, it is coded both in Python and C (for speed). On its website, a few important features for Numpy are listed:\n",
    "\n",
    "* a powerful N-dimensional array object\n",
    "\n",
    "* sophisticated (broadcasting) functions\n",
    "\n",
    "* tools for integrating C/C++ and Fortran code\n",
    "\n",
    "* useful linear algebra, Fourier transform, and random number capabilities"
   ]
  },
  {
   "cell_type": "code",
   "execution_count": 39,
   "id": "9307bee7-d40e-4b80-be10-c8b877aba54c",
   "metadata": {},
   "outputs": [],
   "source": [
    "import numpy as np #import the library using a relatable name#"
   ]
  },
  {
   "cell_type": "markdown",
   "id": "d228ef14-0bfb-449c-92d4-b70e1d25ae01",
   "metadata": {},
   "source": [
    "**Arrays/\"Tensors\"**"
   ]
  },
  {
   "cell_type": "code",
   "execution_count": 44,
   "id": "043c595a-32a3-4e9b-8be7-b02fd177d56b",
   "metadata": {},
   "outputs": [
    {
     "data": {
      "text/plain": [
       "array([56, 89, 45])"
      ]
     },
     "execution_count": 44,
     "metadata": {},
     "output_type": "execute_result"
    }
   ],
   "source": [
    "x_1 = np.array([56,89,45])\n",
    "x_1"
   ]
  },
  {
   "cell_type": "code",
   "execution_count": 46,
   "id": "01ff1638-fc06-4f9f-992a-76acad081e82",
   "metadata": {},
   "outputs": [
    {
     "data": {
      "text/plain": [
       "array(['56', '89', '45', 'm'], dtype='<U21')"
      ]
     },
     "execution_count": 46,
     "metadata": {},
     "output_type": "execute_result"
    }
   ],
   "source": [
    "x_2 = np.array([56,89,45,\"m\"])\n",
    "x_2"
   ]
  },
  {
   "cell_type": "code",
   "execution_count": 51,
   "id": "5294536b-69ba-4b06-88f9-ed863be03278",
   "metadata": {},
   "outputs": [
    {
     "data": {
      "text/plain": [
       "array([[ 5, 78,  9, 51],\n",
       "       [ 2,  3,  1,  4],\n",
       "       [ 4, 56, 98,  5]])"
      ]
     },
     "execution_count": 51,
     "metadata": {},
     "output_type": "execute_result"
    }
   ],
   "source": [
    "y_1 = np.array([[5,78,9,51],[2,3,1,4],[4,56,98,5]]) #careful with the brackets at the end\n",
    "y_1"
   ]
  },
  {
   "cell_type": "code",
   "execution_count": 52,
   "id": "4ccab909-9e1e-4ae1-949d-b81abdd0af14",
   "metadata": {},
   "outputs": [
    {
     "data": {
      "text/plain": [
       "(4,)"
      ]
     },
     "execution_count": 52,
     "metadata": {},
     "output_type": "execute_result"
    }
   ],
   "source": [
    "x_2.shape"
   ]
  },
  {
   "cell_type": "code",
   "execution_count": 53,
   "id": "9ffebf01-9cc8-41f3-a05f-9c28f869ef22",
   "metadata": {},
   "outputs": [
    {
     "data": {
      "text/plain": [
       "(3, 4)"
      ]
     },
     "execution_count": 53,
     "metadata": {},
     "output_type": "execute_result"
    }
   ],
   "source": [
    "y_1.shape #size of matrix mxn#"
   ]
  },
  {
   "cell_type": "code",
   "execution_count": 54,
   "id": "0a29fed1-222f-43fc-8e83-9695777d5f14",
   "metadata": {},
   "outputs": [
    {
     "data": {
      "text/plain": [
       "4"
      ]
     },
     "execution_count": 54,
     "metadata": {},
     "output_type": "execute_result"
    }
   ],
   "source": [
    "x_2.size #gets the total number of elements"
   ]
  },
  {
   "cell_type": "code",
   "execution_count": 55,
   "id": "ecd11f97-280e-4ad7-b460-a6076c306e59",
   "metadata": {},
   "outputs": [
    {
     "data": {
      "text/plain": [
       "12"
      ]
     },
     "execution_count": 55,
     "metadata": {},
     "output_type": "execute_result"
    }
   ],
   "source": [
    "y_1.size"
   ]
  },
  {
   "cell_type": "code",
   "execution_count": 56,
   "id": "45e2506d-07a9-447c-a9b9-fb01ef16b20e",
   "metadata": {},
   "outputs": [
    {
     "data": {
      "text/plain": [
       "array([-5.0000e+00, -3.7700e+00, -2.5400e+00, -1.3100e+00, -8.0000e-02,\n",
       "        1.1500e+00,  2.3800e+00,  3.6100e+00,  4.8400e+00,  6.0700e+00,\n",
       "        7.3000e+00,  8.5300e+00,  9.7600e+00,  1.0990e+01,  1.2220e+01,\n",
       "        1.3450e+01,  1.4680e+01,  1.5910e+01,  1.7140e+01,  1.8370e+01,\n",
       "        1.9600e+01,  2.0830e+01,  2.2060e+01,  2.3290e+01,  2.4520e+01,\n",
       "        2.5750e+01,  2.6980e+01,  2.8210e+01,  2.9440e+01,  3.0670e+01,\n",
       "        3.1900e+01,  3.3130e+01,  3.4360e+01,  3.5590e+01,  3.6820e+01,\n",
       "        3.8050e+01,  3.9280e+01,  4.0510e+01,  4.1740e+01,  4.2970e+01,\n",
       "        4.4200e+01,  4.5430e+01,  4.6660e+01,  4.7890e+01,  4.9120e+01,\n",
       "        5.0350e+01,  5.1580e+01,  5.2810e+01,  5.4040e+01,  5.5270e+01,\n",
       "        5.6500e+01,  5.7730e+01,  5.8960e+01,  6.0190e+01,  6.1420e+01,\n",
       "        6.2650e+01,  6.3880e+01,  6.5110e+01,  6.6340e+01,  6.7570e+01,\n",
       "        6.8800e+01,  7.0030e+01,  7.1260e+01,  7.2490e+01,  7.3720e+01,\n",
       "        7.4950e+01,  7.6180e+01,  7.7410e+01,  7.8640e+01,  7.9870e+01,\n",
       "        8.1100e+01,  8.2330e+01,  8.3560e+01,  8.4790e+01,  8.6020e+01,\n",
       "        8.7250e+01,  8.8480e+01,  8.9710e+01,  9.0940e+01,  9.2170e+01,\n",
       "        9.3400e+01,  9.4630e+01,  9.5860e+01,  9.7090e+01,  9.8320e+01,\n",
       "        9.9550e+01,  1.0078e+02,  1.0201e+02,  1.0324e+02,  1.0447e+02,\n",
       "        1.0570e+02,  1.0693e+02,  1.0816e+02,  1.0939e+02,  1.1062e+02,\n",
       "        1.1185e+02,  1.1308e+02,  1.1431e+02,  1.1554e+02,  1.1677e+02,\n",
       "        1.1800e+02,  1.1923e+02,  1.2046e+02,  1.2169e+02,  1.2292e+02,\n",
       "        1.2415e+02,  1.2538e+02,  1.2661e+02,  1.2784e+02,  1.2907e+02,\n",
       "        1.3030e+02,  1.3153e+02,  1.3276e+02,  1.3399e+02,  1.3522e+02,\n",
       "        1.3645e+02,  1.3768e+02,  1.3891e+02,  1.4014e+02,  1.4137e+02,\n",
       "        1.4260e+02,  1.4383e+02,  1.4506e+02,  1.4629e+02,  1.4752e+02,\n",
       "        1.4875e+02,  1.4998e+02,  1.5121e+02,  1.5244e+02,  1.5367e+02,\n",
       "        1.5490e+02,  1.5613e+02,  1.5736e+02,  1.5859e+02,  1.5982e+02,\n",
       "        1.6105e+02,  1.6228e+02,  1.6351e+02,  1.6474e+02,  1.6597e+02,\n",
       "        1.6720e+02,  1.6843e+02,  1.6966e+02,  1.7089e+02,  1.7212e+02,\n",
       "        1.7335e+02,  1.7458e+02,  1.7581e+02,  1.7704e+02,  1.7827e+02,\n",
       "        1.7950e+02,  1.8073e+02,  1.8196e+02,  1.8319e+02,  1.8442e+02,\n",
       "        1.8565e+02,  1.8688e+02,  1.8811e+02,  1.8934e+02,  1.9057e+02,\n",
       "        1.9180e+02,  1.9303e+02,  1.9426e+02,  1.9549e+02,  1.9672e+02,\n",
       "        1.9795e+02,  1.9918e+02])"
      ]
     },
     "execution_count": 56,
     "metadata": {},
     "output_type": "execute_result"
    }
   ],
   "source": [
    "z = np.arange(-5, 200, 1.23) #Create an array z from -5 to 200 with an increment 1.23#\n",
    "z"
   ]
  },
  {
   "cell_type": "code",
   "execution_count": 57,
   "id": "99ab558d-6c29-4b9d-85f7-599b9238c66f",
   "metadata": {},
   "outputs": [
    {
     "data": {
      "text/plain": [
       "array([2.        , 2.63636364, 3.27272727, 3.90909091, 4.54545455,\n",
       "       5.18181818, 5.81818182, 6.45454545, 7.09090909, 7.72727273,\n",
       "       8.36363636, 9.        ])"
      ]
     },
     "execution_count": 57,
     "metadata": {},
     "output_type": "execute_result"
    }
   ],
   "source": [
    "np.linspace(2,9,12) #linspace(a,b,n) generates an array of n equally spaced elements starting from a and ending at b.#"
   ]
  },
  {
   "cell_type": "code",
   "execution_count": 2,
   "id": "da79db5f-12ee-42ab-ba58-cf0347bbaffe",
   "metadata": {},
   "outputs": [
    {
     "data": {
      "text/plain": [
       "2.0"
      ]
     },
     "execution_count": 2,
     "metadata": {},
     "output_type": "execute_result"
    }
   ],
   "source": [
    "import math\n",
    "math.sqrt(4)"
   ]
  },
  {
   "cell_type": "code",
   "execution_count": 3,
   "id": "11b6aaa8-a293-4637-b2b0-def96905d8cc",
   "metadata": {},
   "outputs": [
    {
     "data": {
      "text/plain": [
       "10.000000000000002"
      ]
     },
     "execution_count": 3,
     "metadata": {},
     "output_type": "execute_result"
    }
   ],
   "source": [
    "math.exp(math.log(10))"
   ]
  },
  {
   "cell_type": "markdown",
   "id": "e19702e7-823b-4a0f-bafe-3b136b432f89",
   "metadata": {},
   "source": [
    "The computer truncates the numbers, at the end we have a small error \"floating point error\"/\"truncation error\""
   ]
  },
  {
   "cell_type": "code",
   "execution_count": 4,
   "id": "79293c8b-8747-46e9-b564-da1170223d15",
   "metadata": {},
   "outputs": [
    {
     "data": {
      "text/plain": [
       "\u001b[0;31mSignature:\u001b[0m \u001b[0mmath\u001b[0m\u001b[0;34m.\u001b[0m\u001b[0mcomb\u001b[0m\u001b[0;34m(\u001b[0m\u001b[0mn\u001b[0m\u001b[0;34m,\u001b[0m \u001b[0mk\u001b[0m\u001b[0;34m,\u001b[0m \u001b[0;34m/\u001b[0m\u001b[0;34m)\u001b[0m\u001b[0;34m\u001b[0m\u001b[0;34m\u001b[0m\u001b[0m\n",
       "\u001b[0;31mDocstring:\u001b[0m\n",
       "Number of ways to choose k items from n items without repetition and without order.\n",
       "\n",
       "Evaluates to n! / (k! * (n - k)!) when k <= n and evaluates\n",
       "to zero when k > n.\n",
       "\n",
       "Also called the binomial coefficient because it is equivalent\n",
       "to the coefficient of k-th term in polynomial expansion of the\n",
       "expression (1 + x)**n.\n",
       "\n",
       "Raises TypeError if either of the arguments are not integers.\n",
       "Raises ValueError if either of the arguments are negative.\n",
       "\u001b[0;31mType:\u001b[0m      builtin_function_or_method"
      ]
     },
     "metadata": {},
     "output_type": "display_data"
    }
   ],
   "source": [
    "math.comb?"
   ]
  },
  {
   "cell_type": "code",
   "execution_count": 5,
   "id": "ed88a616-bfdc-44ed-a07d-21ce6c2e9e14",
   "metadata": {},
   "outputs": [
    {
     "ename": "ZeroDivisionError",
     "evalue": "division by zero",
     "output_type": "error",
     "traceback": [
      "\u001b[0;31m---------------------------------------------------------------------------\u001b[0m",
      "\u001b[0;31mZeroDivisionError\u001b[0m                         Traceback (most recent call last)",
      "Cell \u001b[0;32mIn[5], line 1\u001b[0m\n\u001b[0;32m----> 1\u001b[0m \u001b[38;5;241m1\u001b[39m\u001b[38;5;241m/\u001b[39m\u001b[38;5;241m0\u001b[39m\n",
      "\u001b[0;31mZeroDivisionError\u001b[0m: division by zero"
     ]
    }
   ],
   "source": [
    "1/0"
   ]
  },
  {
   "cell_type": "code",
   "execution_count": 6,
   "id": "fee79dae-0fae-420f-8395-1b8e421866e2",
   "metadata": {},
   "outputs": [
    {
     "data": {
      "text/plain": [
       "0.0"
      ]
     },
     "execution_count": 6,
     "metadata": {},
     "output_type": "execute_result"
    }
   ],
   "source": [
    "1/math.inf"
   ]
  },
  {
   "cell_type": "code",
   "execution_count": 7,
   "id": "51daba96-679f-4e01-92f0-7643f1c96ced",
   "metadata": {},
   "outputs": [
    {
     "data": {
      "text/plain": [
       "inf"
      ]
     },
     "execution_count": 7,
     "metadata": {},
     "output_type": "execute_result"
    }
   ],
   "source": [
    "math.inf*3"
   ]
  },
  {
   "cell_type": "code",
   "execution_count": 8,
   "id": "ea7d545f-7336-47f1-b610-22f9e9cb506d",
   "metadata": {},
   "outputs": [
    {
     "data": {
      "text/plain": [
       "nan"
      ]
     },
     "execution_count": 8,
     "metadata": {},
     "output_type": "execute_result"
    }
   ],
   "source": [
    "math.inf/math.inf"
   ]
  },
  {
   "cell_type": "markdown",
   "id": "c82d8876-85bd-44ea-972f-1397f5a1f455",
   "metadata": {},
   "source": [
    "It is not a number."
   ]
  },
  {
   "cell_type": "code",
   "execution_count": 9,
   "id": "79816869-9518-47e8-b823-7e4fb8bca96f",
   "metadata": {},
   "outputs": [
    {
     "data": {
      "text/plain": [
       "(3+4j)"
      ]
     },
     "execution_count": 9,
     "metadata": {},
     "output_type": "execute_result"
    }
   ],
   "source": [
    "complex(3,4)"
   ]
  },
  {
   "cell_type": "markdown",
   "id": "879ac202-a9e3-4857-8336-845c6192caea",
   "metadata": {},
   "source": [
    "j = sqrt(-1) be careful when using j for indexes"
   ]
  },
  {
   "cell_type": "code",
   "execution_count": 10,
   "id": "cd6ce007-64ce-4b74-ba86-b204dcca3810",
   "metadata": {},
   "outputs": [
    {
     "data": {
      "text/plain": [
       "(59-78j)"
      ]
     },
     "execution_count": 10,
     "metadata": {},
     "output_type": "execute_result"
    }
   ],
   "source": [
    "59-78j"
   ]
  },
  {
   "cell_type": "code",
   "execution_count": 11,
   "id": "415ec3f8-e7a8-4aeb-8c30-3ddecc14e920",
   "metadata": {},
   "outputs": [
    {
     "data": {
      "text/plain": [
       "int"
      ]
     },
     "execution_count": 11,
     "metadata": {},
     "output_type": "execute_result"
    }
   ],
   "source": [
    "type(45)"
   ]
  },
  {
   "cell_type": "code",
   "execution_count": 12,
   "id": "c2e24ee9-9796-4ec8-b504-a21ccab46815",
   "metadata": {},
   "outputs": [
    {
     "data": {
      "text/plain": [
       "float"
      ]
     },
     "execution_count": 12,
     "metadata": {},
     "output_type": "execute_result"
    }
   ],
   "source": [
    "type(456.)"
   ]
  },
  {
   "cell_type": "code",
   "execution_count": 14,
   "id": "7a26fb55-e263-4bba-a159-0c18dcaab74c",
   "metadata": {},
   "outputs": [
    {
     "data": {
      "text/plain": [
       "1"
      ]
     },
     "execution_count": 14,
     "metadata": {},
     "output_type": "execute_result"
    }
   ],
   "source": [
    "(4>3)+(5<-3) #VERY USEFUL FOR INDEXING, we get a numerical value doing an operation with the booleans."
   ]
  },
  {
   "cell_type": "code",
   "execution_count": 15,
   "id": "7a2914f3-a5c1-4159-a1eb-260cd746bd62",
   "metadata": {},
   "outputs": [
    {
     "name": "stdout",
     "output_type": "stream",
     "text": [
      "Variable   Type      Data/Info\n",
      "------------------------------\n",
      "math       module    <module 'math' from '/hom<...>311-x86_64-linux-gnu.so'>\n"
     ]
    }
   ],
   "source": [
    "whos"
   ]
  },
  {
   "cell_type": "markdown",
   "id": "88091278-a51c-45ea-980a-3f8033754072",
   "metadata": {},
   "source": [
    "Declared variables occupy RAM memory. The imported libraries also occupy memory."
   ]
  },
  {
   "cell_type": "code",
   "execution_count": null,
   "id": "09d0c31f-6a9d-4739-8551-ed21e2bb039d",
   "metadata": {},
   "outputs": [],
   "source": []
  }
 ],
 "metadata": {
  "kernelspec": {
   "display_name": "Python 3 (ipykernel)",
   "language": "python",
   "name": "python3"
  },
  "language_info": {
   "codemirror_mode": {
    "name": "ipython",
    "version": 3
   },
   "file_extension": ".py",
   "mimetype": "text/x-python",
   "name": "python",
   "nbconvert_exporter": "python",
   "pygments_lexer": "ipython3",
   "version": "3.11.11"
  }
 },
 "nbformat": 4,
 "nbformat_minor": 5
}
